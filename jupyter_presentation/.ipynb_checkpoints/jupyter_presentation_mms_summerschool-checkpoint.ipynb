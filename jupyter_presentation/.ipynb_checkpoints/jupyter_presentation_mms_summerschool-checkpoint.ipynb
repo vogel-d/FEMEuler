{
 "cells": [
  {
   "cell_type": "markdown",
   "metadata": {},
   "source": [
    "# Caption"
   ]
  },
  {
   "cell_type": "markdown",
   "metadata": {},
   "source": [
    "## Performance-test #1: using Arrays of Arrays vs 3 dimensional Arrays"
   ]
  },
  {
   "cell_type": "markdown",
   "metadata": {},
   "source": [
    "### two little examples"
   ]
  },
  {
   "cell_type": "code",
   "execution_count": 1,
   "metadata": {
    "scrolled": true
   },
   "outputs": [
    {
     "data": {
      "text/plain": [
       "2-element Array{Array{Float64,2},1}:\n",
       " [1.0 0.0; 0.0 1.0]\n",
       " [1.0 2.0; 3.0 4.0]"
      ]
     },
     "execution_count": 1,
     "metadata": {},
     "output_type": "execute_result"
    }
   ],
   "source": [
    "ArrayA= [[1.0 0.0;0.0 1.0],[1.0 2.0;3.0 4.0]]"
   ]
  },
  {
   "cell_type": "markdown",
   "metadata": {},
   "source": [
    "It is now a vector and its entries are matrices"
   ]
  },
  {
   "cell_type": "code",
   "execution_count": 2,
   "metadata": {},
   "outputs": [
    {
     "data": {
      "text/plain": [
       "2×2 Array{Float64,2}:\n",
       " 1.0  0.0\n",
       " 0.0  1.0"
      ]
     },
     "execution_count": 2,
     "metadata": {},
     "output_type": "execute_result"
    }
   ],
   "source": [
    "ArrayA[1]"
   ]
  },
  {
   "cell_type": "code",
   "execution_count": 3,
   "metadata": {},
   "outputs": [
    {
     "data": {
      "text/plain": [
       "2×2 Array{Float64,2}:\n",
       " 1.0  0.0\n",
       " 0.0  1.0"
      ]
     },
     "execution_count": 3,
     "metadata": {},
     "output_type": "execute_result"
    }
   ],
   "source": [
    "Array3d= Array{Float64,3}(undef,2,2,2)\n",
    "Array3d[1,:,:]=[1.0 0.0;0.0 1.0]"
   ]
  },
  {
   "cell_type": "code",
   "execution_count": 4,
   "metadata": {},
   "outputs": [
    {
     "data": {
      "text/plain": [
       "2×2 Array{Float64,2}:\n",
       " 1.0  2.0\n",
       " 3.0  4.0"
      ]
     },
     "execution_count": 4,
     "metadata": {},
     "output_type": "execute_result"
    }
   ],
   "source": [
    "Array3d[2,:,:]=[1.0 2.0;3.0 4.0]"
   ]
  },
  {
   "cell_type": "markdown",
   "metadata": {},
   "source": [
    "basically the same Array:"
   ]
  },
  {
   "cell_type": "code",
   "execution_count": 5,
   "metadata": {},
   "outputs": [
    {
     "data": {
      "text/plain": [
       "true"
      ]
     },
     "execution_count": 5,
     "metadata": {},
     "output_type": "execute_result"
    }
   ],
   "source": [
    "(Array3d[1,:,:]==ArrayA[1][:,:]) && (Array3d[2,:,:]==ArrayA[2][:,:])"
   ]
  },
  {
   "cell_type": "markdown",
   "metadata": {},
   "source": [
    "### defining two test-functions"
   ]
  },
  {
   "cell_type": "markdown",
   "metadata": {},
   "source": [
    "actual code iterates over every index and does a simple operation, so the test-functions should do the same"
   ]
  },
  {
   "cell_type": "markdown",
   "metadata": {},
   "source": [
    "#### test Arrays of Arrays"
   ]
  },
  {
   "cell_type": "code",
   "execution_count": 6,
   "metadata": {},
   "outputs": [
    {
     "data": {
      "text/plain": [
       "arrayarray (generic function with 1 method)"
      ]
     },
     "execution_count": 6,
     "metadata": {},
     "output_type": "execute_result"
    }
   ],
   "source": [
    "function arrayarray(A::Array{Array{Float64,2},1}, B::Array{Array{Float64,2},1})\n",
    "    sum=0.0;\n",
    "    for k in 1:size(A[1])[2]\n",
    "        for l in 1:size(A[1])[1]\n",
    "            for j=1:length(B)\n",
    "                for i=1:length(A)\n",
    "                    sum+=A[i][l,k]*B[j][l,k]\n",
    "                end\n",
    "            end\n",
    "        end\n",
    "    end\n",
    " return sum;\n",
    "end"
   ]
  },
  {
   "cell_type": "markdown",
   "metadata": {},
   "source": [
    "#### test 3 dimensional Arrays"
   ]
  },
  {
   "cell_type": "code",
   "execution_count": 7,
   "metadata": {},
   "outputs": [
    {
     "data": {
      "text/plain": [
       "array3d (generic function with 1 method)"
      ]
     },
     "execution_count": 7,
     "metadata": {},
     "output_type": "execute_result"
    }
   ],
   "source": [
    "function array3d(A::Array{Float64,3}, B::Array{Float64,3})\n",
    "    sum=0.0;\n",
    "    for k in 1:size(A)[3]\n",
    "        for l in 1:size(A)[2]\n",
    "            for i=1:size(A)[1]\n",
    "                for j=1:size(B)[1]\n",
    "                    sum+=A[i,l,k]*B[j,l,k]\n",
    "                end\n",
    "            end\n",
    "        end\n",
    "    end\n",
    " return sum;\n",
    "end"
   ]
  },
  {
   "cell_type": "markdown",
   "metadata": {},
   "source": [
    "### initialize large, equivalent Matrices to test"
   ]
  },
  {
   "cell_type": "markdown",
   "metadata": {},
   "source": [
    "first one has random entries, second one is filled with the exact same entries"
   ]
  },
  {
   "cell_type": "code",
   "execution_count": 8,
   "metadata": {},
   "outputs": [],
   "source": [
    "A1=Array{Array{Float64,2},1}(undef,10)\n",
    "B1=Array{Array{Float64,2},1}(undef,10)\n",
    "\n",
    "A2=Array{Float64,3}(undef,10,1000,1000)\n",
    "B2=Array{Float64,3}(undef,10,1000,1000)\n",
    "\n",
    "for i in 1:10\n",
    "    A1[i]=rand(1000,1000)\n",
    "    B1[i]=rand(1000,1000)\n",
    "\n",
    "    A2[i,:,:]=A1[i]\n",
    "    B2[i,:,:]=B1[i]\n",
    "end"
   ]
  },
  {
   "cell_type": "markdown",
   "metadata": {},
   "source": [
    "### do the test"
   ]
  },
  {
   "cell_type": "code",
   "execution_count": 9,
   "metadata": {},
   "outputs": [],
   "source": [
    "using BenchmarkTools"
   ]
  },
  {
   "cell_type": "code",
   "execution_count": 10,
   "metadata": {},
   "outputs": [],
   "source": [
    "sum1=0.0; sum2=0.0;"
   ]
  },
  {
   "cell_type": "code",
   "execution_count": 11,
   "metadata": {},
   "outputs": [],
   "source": [
    "benchmarksarrayarray = @benchmark sum1=arrayarray(A1,B1);"
   ]
  },
  {
   "cell_type": "code",
   "execution_count": 12,
   "metadata": {},
   "outputs": [],
   "source": [
    "benchmarksarray3d = @benchmark sum2=array3d(A2,B2);"
   ]
  },
  {
   "cell_type": "markdown",
   "metadata": {},
   "source": [
    "proving that both functions have the same result:"
   ]
  },
  {
   "cell_type": "code",
   "execution_count": 13,
   "metadata": {},
   "outputs": [
    {
     "data": {
      "text/plain": [
       "true"
      ]
     },
     "execution_count": 13,
     "metadata": {},
     "output_type": "execute_result"
    }
   ],
   "source": [
    "sum1==sum2"
   ]
  },
  {
   "cell_type": "markdown",
   "metadata": {},
   "source": [
    "\"old\" version:"
   ]
  },
  {
   "cell_type": "code",
   "execution_count": 14,
   "metadata": {},
   "outputs": [
    {
     "data": {
      "text/plain": [
       "BenchmarkTools.Trial: \n",
       "  memory estimate:  0 bytes\n",
       "  allocs estimate:  0\n",
       "  --------------\n",
       "  minimum time:     698.427 ms (0.00% GC)\n",
       "  median time:      704.147 ms (0.00% GC)\n",
       "  mean time:        704.884 ms (0.00% GC)\n",
       "  maximum time:     716.565 ms (0.00% GC)\n",
       "  --------------\n",
       "  samples:          8\n",
       "  evals/sample:     1"
      ]
     },
     "execution_count": 14,
     "metadata": {},
     "output_type": "execute_result"
    }
   ],
   "source": [
    "benchmarksarrayarray"
   ]
  },
  {
   "cell_type": "markdown",
   "metadata": {},
   "source": [
    "\"new\" version:"
   ]
  },
  {
   "cell_type": "code",
   "execution_count": 15,
   "metadata": {},
   "outputs": [
    {
     "data": {
      "text/plain": [
       "BenchmarkTools.Trial: \n",
       "  memory estimate:  0 bytes\n",
       "  allocs estimate:  0\n",
       "  --------------\n",
       "  minimum time:     226.788 ms (0.00% GC)\n",
       "  median time:      237.147 ms (0.00% GC)\n",
       "  mean time:        239.002 ms (0.00% GC)\n",
       "  maximum time:     257.921 ms (0.00% GC)\n",
       "  --------------\n",
       "  samples:          21\n",
       "  evals/sample:     1"
      ]
     },
     "execution_count": 15,
     "metadata": {},
     "output_type": "execute_result"
    }
   ],
   "source": [
    "benchmarksarray3d"
   ]
  },
  {
   "cell_type": "markdown",
   "metadata": {},
   "source": [
    "## Performance-test #2: Comparing slices to views and how to use them properly"
   ]
  },
  {
   "cell_type": "markdown",
   "metadata": {},
   "source": [
    "### defining a function to test slices"
   ]
  },
  {
   "cell_type": "code",
   "execution_count": 16,
   "metadata": {},
   "outputs": [
    {
     "data": {
      "text/plain": [
       "testslice (generic function with 1 method)"
      ]
     },
     "execution_count": 16,
     "metadata": {},
     "output_type": "execute_result"
    }
   ],
   "source": [
    "function testslice(vector,a)\n",
    "    for i in 1:1000000\n",
    "        a=vector[i:i+5];\n",
    "    end\n",
    "end"
   ]
  },
  {
   "cell_type": "markdown",
   "metadata": {},
   "source": [
    "### defining a function to test for-loops instead of slices"
   ]
  },
  {
   "cell_type": "code",
   "execution_count": 17,
   "metadata": {},
   "outputs": [
    {
     "data": {
      "text/plain": [
       "testloop (generic function with 1 method)"
      ]
     },
     "execution_count": 17,
     "metadata": {},
     "output_type": "execute_result"
    }
   ],
   "source": [
    "function testloop(vector,a)\n",
    "    for i in 1:1000000\n",
    "        for j in 0:5\n",
    "            a[j+1]=vector[i+j]\n",
    "        end\n",
    "    end\n",
    "end"
   ]
  },
  {
   "cell_type": "markdown",
   "metadata": {},
   "source": [
    "### defining a function to test @view"
   ]
  },
  {
   "cell_type": "code",
   "execution_count": 18,
   "metadata": {},
   "outputs": [
    {
     "data": {
      "text/plain": [
       "testview (generic function with 1 method)"
      ]
     },
     "execution_count": 18,
     "metadata": {},
     "output_type": "execute_result"
    }
   ],
   "source": [
    "function testview(vector)\n",
    "    for i in 1:1000000\n",
    "        a= @view vector[i:i+5];\n",
    "    end\n",
    "end"
   ]
  },
  {
   "cell_type": "markdown",
   "metadata": {},
   "source": [
    "### defining a function to test preallocating the @view"
   ]
  },
  {
   "cell_type": "code",
   "execution_count": 19,
   "metadata": {},
   "outputs": [
    {
     "data": {
      "text/plain": [
       "testpreallocview (generic function with 1 method)"
      ]
     },
     "execution_count": 19,
     "metadata": {},
     "output_type": "execute_result"
    }
   ],
   "source": [
    "function testpreallocview(vector,a)\n",
    "    for i in 1:1000000\n",
    "        a= @view vector[i:i+5];\n",
    "    end\n",
    "end"
   ]
  },
  {
   "cell_type": "markdown",
   "metadata": {},
   "source": [
    "### defining a function to test @view in combination with @inbounds"
   ]
  },
  {
   "cell_type": "code",
   "execution_count": 20,
   "metadata": {},
   "outputs": [
    {
     "data": {
      "text/plain": [
       "testviewinbounds (generic function with 1 method)"
      ]
     },
     "execution_count": 20,
     "metadata": {},
     "output_type": "execute_result"
    }
   ],
   "source": [
    "function testviewinbounds(vector)\n",
    "    for i in 1:1000000\n",
    "        a= @inbounds @views vector[i:i+5];\n",
    "    end\n",
    "end"
   ]
  },
  {
   "cell_type": "markdown",
   "metadata": {},
   "source": [
    "### initializing a testvector and preallocating a slice/@view"
   ]
  },
  {
   "cell_type": "code",
   "execution_count": 21,
   "metadata": {},
   "outputs": [],
   "source": [
    "vector = rand(1000000+5);"
   ]
  },
  {
   "cell_type": "code",
   "execution_count": 22,
   "metadata": {},
   "outputs": [],
   "source": [
    "as = vector[1:6];"
   ]
  },
  {
   "cell_type": "code",
   "execution_count": 23,
   "metadata": {},
   "outputs": [],
   "source": [
    "av = @view vector[1:6];"
   ]
  },
  {
   "cell_type": "markdown",
   "metadata": {},
   "source": [
    "### benchmarking every function"
   ]
  },
  {
   "cell_type": "code",
   "execution_count": 24,
   "metadata": {},
   "outputs": [
    {
     "data": {
      "text/plain": [
       "BenchmarkTools.Trial: \n",
       "  memory estimate:  122.07 MiB\n",
       "  allocs estimate:  1000000\n",
       "  --------------\n",
       "  minimum time:     111.933 ms (9.17% GC)\n",
       "  median time:      116.654 ms (10.32% GC)\n",
       "  mean time:        116.348 ms (9.97% GC)\n",
       "  maximum time:     122.968 ms (10.11% GC)\n",
       "  --------------\n",
       "  samples:          43\n",
       "  evals/sample:     1"
      ]
     },
     "execution_count": 24,
     "metadata": {},
     "output_type": "execute_result"
    }
   ],
   "source": [
    "@benchmark testslice(vector,as)"
   ]
  },
  {
   "cell_type": "code",
   "execution_count": 25,
   "metadata": {},
   "outputs": [
    {
     "data": {
      "text/plain": [
       "BenchmarkTools.Trial: \n",
       "  memory estimate:  0 bytes\n",
       "  allocs estimate:  0\n",
       "  --------------\n",
       "  minimum time:     10.768 ms (0.00% GC)\n",
       "  median time:      10.801 ms (0.00% GC)\n",
       "  mean time:        11.168 ms (0.00% GC)\n",
       "  maximum time:     16.025 ms (0.00% GC)\n",
       "  --------------\n",
       "  samples:          447\n",
       "  evals/sample:     1"
      ]
     },
     "execution_count": 25,
     "metadata": {},
     "output_type": "execute_result"
    }
   ],
   "source": [
    "@benchmark testloop(vector,as)"
   ]
  },
  {
   "cell_type": "code",
   "execution_count": 26,
   "metadata": {},
   "outputs": [
    {
     "data": {
      "text/plain": [
       "BenchmarkTools.Trial: \n",
       "  memory estimate:  0 bytes\n",
       "  allocs estimate:  0\n",
       "  --------------\n",
       "  minimum time:     1.413 ms (0.00% GC)\n",
       "  median time:      1.413 ms (0.00% GC)\n",
       "  mean time:        1.470 ms (0.00% GC)\n",
       "  maximum time:     2.738 ms (0.00% GC)\n",
       "  --------------\n",
       "  samples:          3396\n",
       "  evals/sample:     1"
      ]
     },
     "execution_count": 26,
     "metadata": {},
     "output_type": "execute_result"
    }
   ],
   "source": [
    "@benchmark testview(vector)"
   ]
  },
  {
   "cell_type": "code",
   "execution_count": 27,
   "metadata": {},
   "outputs": [
    {
     "data": {
      "text/plain": [
       "BenchmarkTools.Trial: \n",
       "  memory estimate:  0 bytes\n",
       "  allocs estimate:  0\n",
       "  --------------\n",
       "  minimum time:     1.413 ms (0.00% GC)\n",
       "  median time:      1.413 ms (0.00% GC)\n",
       "  mean time:        1.460 ms (0.00% GC)\n",
       "  maximum time:     2.724 ms (0.00% GC)\n",
       "  --------------\n",
       "  samples:          3419\n",
       "  evals/sample:     1"
      ]
     },
     "execution_count": 27,
     "metadata": {},
     "output_type": "execute_result"
    }
   ],
   "source": [
    "@benchmark testpreallocview(vector,av)"
   ]
  },
  {
   "cell_type": "code",
   "execution_count": 28,
   "metadata": {},
   "outputs": [
    {
     "data": {
      "text/plain": [
       "BenchmarkTools.Trial: \n",
       "  memory estimate:  0 bytes\n",
       "  allocs estimate:  0\n",
       "  --------------\n",
       "  minimum time:     37.760 ns (0.00% GC)\n",
       "  median time:      41.488 ns (0.00% GC)\n",
       "  mean time:        41.683 ns (0.00% GC)\n",
       "  maximum time:     542.473 ns (0.00% GC)\n",
       "  --------------\n",
       "  samples:          10000\n",
       "  evals/sample:     989"
      ]
     },
     "execution_count": 28,
     "metadata": {},
     "output_type": "execute_result"
    }
   ],
   "source": [
    "@benchmark testviewinbounds(vector)"
   ]
  },
  {
   "cell_type": "markdown",
   "metadata": {},
   "source": [
    "BUT @inbounds is dangerous:"
   ]
  },
  {
   "cell_type": "code",
   "execution_count": 29,
   "metadata": {},
   "outputs": [],
   "source": [
    "vector=rand(10);"
   ]
  },
  {
   "cell_type": "code",
   "execution_count": 30,
   "metadata": {},
   "outputs": [
    {
     "ename": "BoundsError",
     "evalue": "BoundsError: attempt to access 10-element Array{Float64,1} at index [6:11]",
     "output_type": "error",
     "traceback": [
      "BoundsError: attempt to access 10-element Array{Float64,1} at index [6:11]",
      "",
      "Stacktrace:",
      " [1] throw_boundserror(::Array{Float64,1}, ::Tuple{UnitRange{Int64}}) at ./abstractarray.jl:484",
      " [2] checkbounds at ./abstractarray.jl:449 [inlined]",
      " [3] view at ./subarray.jl:155 [inlined]",
      " [4] testview(::Array{Float64,1}) at ./In[18]:3",
      " [5] top-level scope at In[30]:1"
     ]
    }
   ],
   "source": [
    "testview(vector);"
   ]
  },
  {
   "cell_type": "markdown",
   "metadata": {},
   "source": [
    "rewrite testviewinbounds to see what's actually happening:"
   ]
  },
  {
   "cell_type": "code",
   "execution_count": 31,
   "metadata": {},
   "outputs": [
    {
     "data": {
      "text/plain": [
       "testviewinbounds (generic function with 1 method)"
      ]
     },
     "execution_count": 31,
     "metadata": {},
     "output_type": "execute_result"
    }
   ],
   "source": [
    "function testviewinbounds(vector)\n",
    "    a=@views vector[1:6];\n",
    "    for i in 1:1000000\n",
    "        a= @inbounds @views vector[i:i+5];\n",
    "    end\n",
    "    println(a);\n",
    "end"
   ]
  },
  {
   "cell_type": "code",
   "execution_count": 32,
   "metadata": {},
   "outputs": [
    {
     "name": "stdout",
     "output_type": "stream",
     "text": [
      "[2.16029e-314, 2.22309e-314, 2.22309e-314, 2.16082e-314, 2.22309e-314, 2.22309e-314]\n"
     ]
    }
   ],
   "source": [
    "testviewinbounds(vector);"
   ]
  },
  {
   "cell_type": "markdown",
   "metadata": {},
   "source": [
    "# Reducing Allocations"
   ]
  },
  {
   "cell_type": "code",
   "execution_count": 37,
   "metadata": {},
   "outputs": [
    {
     "data": {
      "text/plain": [
       "4-element Array{String,1}:\n",
       " \"@\"                                         \n",
       " \"@v#.#\"                                     \n",
       " \"@stdlib\"                                   \n",
       " \"/Users/vogel/FEMEuler/jupyter_presentation\""
      ]
     },
     "execution_count": 37,
     "metadata": {},
     "output_type": "execute_result"
    }
   ],
   "source": [
    "LOAD_PATH"
   ]
  },
  {
   "cell_type": "code",
   "execution_count": 36,
   "metadata": {},
   "outputs": [
    {
     "name": "stdout",
     "output_type": "stream",
     "text": [
      "\u001b[32m\u001b[1m  Updating\u001b[22m\u001b[39m registry at `~/.julia/registries/General`\n",
      "\u001b[32m\u001b[1m  Updating\u001b[22m\u001b[39m git-repo `https://github.com/JuliaRegistries/General.git`\n",
      "\u001b[?25l\u001b[2K\u001b[?25h"
     ]
    },
    {
     "name": "stderr",
     "output_type": "stream",
     "text": [
      "┌ Warning: Some registries failed to update:\n",
      "│     — /Users/vogel/.julia/registries/General — failed to fetch from repo\n",
      "└ @ Pkg.Types /Users/osx/buildbot/slave/package_osx64/build/usr/share/julia/stdlib/v1.1/Pkg/src/Types.jl:1269\n"
     ]
    },
    {
     "ename": "Pkg.Types.PkgError",
     "evalue": "The following package names could not be resolved:\n * FEMCompressibleEuler (not found in project, manifest or registry)\nPlease specify by known `name=uuid`.",
     "output_type": "error",
     "traceback": [
      "The following package names could not be resolved:\n * FEMCompressibleEuler (not found in project, manifest or registry)\nPlease specify by known `name=uuid`.",
      "",
      "Stacktrace:",
      " [1] pkgerror(::String) at /Users/osx/buildbot/slave/package_osx64/build/usr/share/julia/stdlib/v1.1/Pkg/src/Types.jl:120",
      " [2] #ensure_resolved#72(::Bool, ::Function, ::Pkg.Types.EnvCache, ::Array{Pkg.Types.PackageSpec,1}) at /Users/osx/buildbot/slave/package_osx64/build/usr/share/julia/stdlib/v1.1/Pkg/src/Types.jl:1010",
      " [3] #ensure_resolved at ./none:0 [inlined]",
      " [4] #add_or_develop#15(::Symbol, ::Bool, ::Base.Iterators.Pairs{Union{},Union{},Tuple{},NamedTuple{(),Tuple{}}}, ::Function, ::Pkg.Types.Context, ::Array{Pkg.Types.PackageSpec,1}) at /Users/osx/buildbot/slave/package_osx64/build/usr/share/julia/stdlib/v1.1/Pkg/src/API.jl:49",
      " [5] #add_or_develop at ./none:0 [inlined]",
      " [6] #add_or_develop#14 at /Users/osx/buildbot/slave/package_osx64/build/usr/share/julia/stdlib/v1.1/Pkg/src/API.jl:31 [inlined]",
      " [7] #add_or_develop at ./none:0 [inlined]",
      " [8] #add_or_develop#13 at /Users/osx/buildbot/slave/package_osx64/build/usr/share/julia/stdlib/v1.1/Pkg/src/API.jl:29 [inlined]",
      " [9] #add_or_develop at ./none:0 [inlined]",
      " [10] #add_or_develop#12(::Base.Iterators.Pairs{Symbol,Symbol,Tuple{Symbol},NamedTuple{(:mode,),Tuple{Symbol}}}, ::Function, ::String) at /Users/osx/buildbot/slave/package_osx64/build/usr/share/julia/stdlib/v1.1/Pkg/src/API.jl:28",
      " [11] #add_or_develop at ./none:0 [inlined]",
      " [12] #add#20 at /Users/osx/buildbot/slave/package_osx64/build/usr/share/julia/stdlib/v1.1/Pkg/src/API.jl:59 [inlined]",
      " [13] add(::String) at /Users/osx/buildbot/slave/package_osx64/build/usr/share/julia/stdlib/v1.1/Pkg/src/API.jl:59",
      " [14] top-level scope at In[36]:2"
     ]
    }
   ],
   "source": [
    "\n",
    "import FEMCompressibleEuler"
   ]
  },
  {
   "cell_type": "code",
   "execution_count": null,
   "metadata": {},
   "outputs": [],
   "source": [
    "function advectionStiff(degFT::degF{2}, phiTtrans::Array{Array{Array{Float64,1},2},1},\n",
    "                        degFF::degF{2}, phiFtrans::Array{Array{Array{Float64,1},2},1},  fval::SparseVector{Float64,Int64},\n",
    "                        degFW::degF{2}, phiWtrans::Array{Array{Array{Float64,1},2},1}, wval::Array{Float64,1},\n",
    "                        gamma::Float64,m::mesh, kubPoints::Array{Float64,2}, kubWeights::Array{Float64,2},\n",
    "                        nquadPoints::Array{Array{Float64,2},1}, edgeData::Array{Array{Int64,1},1})\n",
    "\n",
    "\n",
    "    phiF=@views degFF.phi;\n",
    "    dphiF=@views degFF.divphi;\n",
    "    phiW=@views degFW.phi;\n",
    "    phiT=@views degFT.phi;\n",
    "    gradphiW=@views degFW.gradphi;\n",
    "\n",
    "    sk=size(kubWeights);\n",
    "    nT=size(phiT,2);\n",
    "    nF=size(phiF,2);\n",
    "\n",
    "    M=zeros(size(degFT.coordinates,2),1);\n",
    "\n",
    "    ddJ=Array{Float64,2}(undef,sk);\n",
    "    jphiT=initPhi(size(phiT),sk);\n",
    "\n",
    "    for k in 1:m.topology.size[3]\n",
    "        jacobi!(ddJ,jphiT,m,k,kubPoints,phiT);\n",
    "        globalNumW=@views l2g(degFW,k);\n",
    "\n",
    "        w1=zeros(sk);\n",
    "        w2=zeros(sk);\n",
    "        for i in 1:length(globalNumW)\n",
    "            w1+=wval[globalNumW[i]]*phiW[1,i];\n",
    "            w2+=wval[globalNumW[i]]*phiW[2,i];\n",
    "        end\n",
    "\n",
    "        gradw11=zeros(sk);\n",
    "        gradw12=zeros(sk);\n",
    "        gradw21=zeros(sk);\n",
    "        gradw22=zeros(sk);\n",
    "        zg=0;\n",
    "        for i in 1:size(phiW,2)\n",
    "            gradw11+=wval[globalNumW[i]]*gradphiW[1,1+zg];\n",
    "            gradw12+=wval[globalNumW[i]]*gradphiW[1,2+zg];\n",
    "            gradw21+=wval[globalNumW[i]]*gradphiW[2,1+zg];\n",
    "            gradw22+=wval[globalNumW[i]]*gradphiW[2,2+zg];\n",
    "            zg+=2;\n",
    "        end\n",
    "\n",
    "        globalNumF=@views l2g(degFF,k);\n",
    "        globalNumT=@views l2g(degFT,k);\n",
    "        for i in 1:length(globalNumT)\n",
    "            gi=globalNumT[i];\n",
    "            z=0.0;\n",
    "            for j in 1:length(globalNumF)\n",
    "                gj=globalNumF[j];\n",
    "                for r in 1:size(kubWeights,2)\n",
    "                    for l in 1:size(kubWeights,1)\n",
    "                        z+=fval[gj]*kubWeights[l,r]*ddJ[l,r]^2*(jphiT[1,i][l,r]*(dphiF[j][l,r]*w1[l,r]+gradw11[l,r]*phiF[1,j][l,r]+gradw12[l,r]*phiF[2,j][l,r])+jphiT[2,i][l,r]*(dphiF[j][l,r]*w2[l,r]+gradw21[l,r]*phiF[1,j][l,r]+gradw22[l,r]*phiF[2,j][l,r]));\n",
    "                    end\n",
    "                end\n",
    "            end\n",
    "            M[gi]-=z;\n",
    "        end\n",
    "    end\n",
    "    quadPoints, quadWeights=getQuad(2*sk[1]-1);\n",
    "\n",
    "    J1=Array{Array{Float64,1},2}(undef,2,2);\n",
    "    ddJ1=Array{Float64,1}(undef,sk[1]);\n",
    "    jphiWn1=initPhi(size(phiW),sk[1])\n",
    "    jphiTn1=initPhi(size(phiT),sk[1])\n",
    "\n",
    "    J2=Array{Array{Float64,1},2}(undef,2,2);\n",
    "    ddJ2=Array{Float64,1}(undef,sk[1]);\n",
    "    jphiWn2=initPhi(size(phiW),sk[1])\n",
    "    jphiTn2=initPhi(size(phiT),sk[1]);\n",
    "\n",
    "    z=1;\n",
    "    for e in 1:length(edgeData[1])\n",
    "        inc1=edgeData[2][z];\n",
    "        inc2=edgeData[2][z+1];\n",
    "        eT1=edgeData[3][z];\n",
    "        eT2=edgeData[3][z+1];\n",
    "        z+=2;\n",
    "        n=@views m.normals[:,eT1];\n",
    "        le=m.edgeLength[edgeData[1][e]];\n",
    "        globv=@views edgeData[4][edgeData[5][e]:edgeData[5][e+1]-1];\n",
    "\n",
    "        phiFn1=@views phiFtrans[eT1];\n",
    "        phiTn1=@views phiTtrans[eT1];\n",
    "        phiWn1=@views phiWtrans[eT1];\n",
    "        kubPn1=@views nquadPoints[eT1];\n",
    "        phiFn2=@views phiFtrans[eT2];\n",
    "        phiTn2=@views phiTtrans[eT2];\n",
    "        phiWn2=@views phiWtrans[eT2];\n",
    "        kubPn2=@views nquadPoints[eT2];\n",
    "\n",
    "        jacobi!(J1,ddJ1,jphiWn1,jphiTn1,m,inc1,kubPn1, phiWn1, phiTn1);\n",
    "        jacobi!(J2,ddJ2,jphiWn2,jphiTn2,m,inc2,kubPn2, phiWn2, phiTn2);\n",
    "\n",
    "\n",
    "        w11=zeros(sk[1])\n",
    "        w12=zeros(sk[1])\n",
    "        w21=zeros(sk[1])\n",
    "        w22=zeros(sk[1])\n",
    "        globalNumW1=@views l2g(degFW,inc1);\n",
    "        globalNumW2=@views l2g(degFW,inc2);\n",
    "        for i in 1:length(globalNumW1)\n",
    "            w11+=wval[globalNumW1[i]]*jphiWn1[1,i];\n",
    "            w12+=wval[globalNumW1[i]]*jphiWn1[2,i];\n",
    "            w21+=wval[globalNumW2[i]]*jphiWn2[1,i];\n",
    "            w22+=wval[globalNumW2[i]]*jphiWn2[2,i];\n",
    "        end\n",
    "\n",
    "        s=0.0;\n",
    "        for i in globv\n",
    "            s+=fval[i];\n",
    "        end\n",
    "        s<=0.0 ? gammaLoc=-gamma : gammaLoc=gamma;\n",
    "\n",
    "        lM11=zeros(nT,nF);\n",
    "        lM12=zeros(nT,nF);\n",
    "        lM21=zeros(nT,nF);\n",
    "        lM22=zeros(nT,nF);\n",
    "\n",
    "        for j in 1:nF\n",
    "            for i in 1:nT\n",
    "                for r in 1:sk[2]\n",
    "                    lM11[i,j]+=le^2*quadWeights[r]*ddJ1[r]*ddJ1[r]^2*(n[1]*phiFn1[1,j][r]+n[2]*phiFn1[2,j][r])*(w11[r]*jphiTn1[1,i][r]+w12[r]*jphiTn1[2,i][r]);\n",
    "                    lM12[i,j]+=le^2*quadWeights[r]*ddJ1[r]*ddJ2[r]^2*(n[1]*phiFn2[1,j][r]+n[2]*phiFn2[2,j][r])*(w21[r]*jphiTn1[1,i][r]+w22[r]*jphiTn1[2,i][r]);\n",
    "                    lM21[i,j]+=le^2*quadWeights[r]*ddJ2[r]*ddJ1[r]^2*(n[1]*phiFn1[1,j][r]+n[2]*phiFn1[2,j][r])*(w11[r]*jphiTn2[1,i][r]+w12[r]*jphiTn2[2,i][r]);\n",
    "                    lM22[i,j]+=le^2*quadWeights[r]*ddJ2[r]*ddJ2[r]^2*(n[1]*phiFn2[1,j][r]+n[2]*phiFn2[2,j][r])*(w21[r]*jphiTn2[1,i][r]+w22[r]*jphiTn2[2,i][r]);\n",
    "                end\n",
    "            end\n",
    "        end\n",
    "\n",
    "\n",
    "        phiFdeg1=@views l2g(degFF,inc1);\n",
    "        globalNumT1=@views l2g(degFT,inc1);\n",
    "        phiFdeg2=@views l2g(degFF,inc2);\n",
    "        globalNumT2=@views l2g(degFT,inc2);\n",
    "\n",
    "        for i in 1:length(globalNumT1)\n",
    "            gi1=globalNumT1[i];\n",
    "            gi2=globalNumT2[i];\n",
    "            for j in 1:length(phiFdeg2)\n",
    "                gj1=phiFdeg1[j];\n",
    "                gj2=phiFdeg2[j];\n",
    "                M[gi1]+=(+0.5-gammaLoc)*lM11[i,j]*fval[gj1];\n",
    "                M[gi1]+=(-0.5+gammaLoc)*lM12[i,j]*fval[gj2];\n",
    "                M[gi2]+=(+0.5+gammaLoc)*lM21[i,j]*fval[gj1];\n",
    "                M[gi2]+=(-0.5-gammaLoc)*lM22[i,j]*fval[gj2];\n",
    "            end\n",
    "\n",
    "        end\n",
    "    end\n",
    "    return M[1:degFT.num];\n",
    "end\n"
   ]
  },
  {
   "cell_type": "code",
   "execution_count": 33,
   "metadata": {},
   "outputs": [
    {
     "ename": "UndefVarError",
     "evalue": "UndefVarError: degF not defined",
     "output_type": "error",
     "traceback": [
      "UndefVarError: degF not defined",
      "",
      "Stacktrace:",
      " [1] top-level scope at In[33]:1"
     ]
    }
   ],
   "source": [
    "function advectionStiff(degFT::degF{2}, phiTtrans::Array{Array{Array{Float64,1},2},1},\n",
    "                        degFF::degF{2}, phiFtrans::Array{Array{Array{Float64,1},2},1},  fval::SparseVector{Float64,Int64},\n",
    "                        degFW::degF{2}, phiWtrans::Array{Array{Array{Float64,1},2},1}, wval::Array{Float64,1},\n",
    "                        gamma::Float64,m::mesh, kubPoints::Array{Float64,2}, kubWeights::Array{Float64,2},\n",
    "                        nquadPoints::Array{Array{Float64,2},1}, edgeData::Array{Array{Int64,1},1})\n",
    "\n",
    "\n",
    "    phiT=@views degFT.phi;\n",
    "    phiF=@views degFF.phi;\n",
    "    dphiF=@views degFF.divphi;\n",
    "    gradphiW=@views degFW.gradphi;\n",
    "    phiW=@views degFW.phi;\n",
    "\n",
    "    sk=size(kubWeights);\n",
    "\n",
    "    quadPoints, quadWeights=getQuad(2*sk[1]-1);\n",
    "    coord=Array{Float64,2}(undef,2,m.meshType);\n",
    "\n",
    "    globalNumT1=Array{Int64,1}(undef,size(phiT,2));\n",
    "    globalNumF1=Array{Int64,1}(undef,size(phiF,2));\n",
    "    globalNumW1=Array{Int64,1}(undef,size(phiW,2));\n",
    "\n",
    "    globalNumT2=Array{Int64,1}(undef,size(phiT,2));\n",
    "    globalNumF2=Array{Int64,1}(undef,size(phiF,2));\n",
    "    globalNumW2=Array{Int64,1}(undef,size(phiW,2));\n",
    "\n",
    "    M=zeros(size(degFT.coordinates,2),1);\n",
    "\n",
    "    @time discGalerkinCells!(M,degFT,phiT, globalNumT1, degFF,phiF, dphiF, fval, globalNumF1,\n",
    "                       degFW, phiW, gradphiW, wval, globalNumW1,\n",
    "                       m, kubPoints, kubWeights, coord)\n",
    "\n",
    "    discGalerkinEdges!(M,degFT,phiT, phiTtrans,globalNumT1, globalNumT2,\n",
    "                       degFF,phiF, phiFtrans, fval, globalNumF1, globalNumF2,\n",
    "                       degFW,phiW, phiWtrans, wval, globalNumW1,globalNumW2,\n",
    "                       m, quadWeights, nquadPoints, edgeData,gamma,coord)\n",
    "\n",
    "    return M[1:degFT.num];\n",
    "end"
   ]
  },
  {
   "cell_type": "code",
   "execution_count": null,
   "metadata": {},
   "outputs": [],
   "source": []
  }
 ],
 "metadata": {
  "@webio": {
   "lastCommId": null,
   "lastKernelId": null
  },
  "kernelspec": {
   "display_name": "Julia 1.1.0",
   "language": "julia",
   "name": "julia-1.1"
  },
  "language_info": {
   "file_extension": ".jl",
   "mimetype": "application/julia",
   "name": "julia",
   "version": "1.1.0"
  }
 },
 "nbformat": 4,
 "nbformat_minor": 2
}
